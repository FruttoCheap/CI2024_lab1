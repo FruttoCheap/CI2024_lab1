{
 "cells": [
  {
   "cell_type": "code",
   "metadata": {},
   "source": [
    "from itertools import accumulate\n",
    "import numpy as np\n",
    "from tqdm.auto import tqdm\n",
    "\n",
    "from icecream import ic\n",
    "\n",
    "from matplotlib import pyplot as plt"
   ],
   "outputs": [],
   "execution_count": null
  },
  {
   "cell_type": "code",
   "metadata": {},
   "source": [
    "# Possible combinations of sets\n",
    "# size: 100, sets: 10, density: .2\n",
    "# size: 1000, sets: 100, density: .2\n",
    "# size: 10000, sets: 1000, density: .2\n",
    "# size: 100000, sets: 10000, density: .1\n",
    "# size: 100000, sets: 10000, density: .2\n",
    "# size: 100000, sets: 10000, density: .3\n",
    "\n",
    "UNIVERSE_SIZE = 100\n",
    "NUM_SETS = 10\n",
    "DENSITY = 0.2\n",
    "\n",
    "rng = np.random.Generator(np.random.PCG64([UNIVERSE_SIZE, NUM_SETS, int(10_000 * DENSITY)]))"
   ],
   "outputs": [],
   "execution_count": null
  },
  {
   "cell_type": "code",
   "metadata": {},
   "source": [
    "# DON'T EDIT THESE LINES!\n",
    "\n",
    "SETS = np.random.random((NUM_SETS, UNIVERSE_SIZE)) < DENSITY\n",
    "for s in range(UNIVERSE_SIZE):\n",
    "    if not np.any(SETS[:, s]):\n",
    "        SETS[np.random.randint(NUM_SETS), s] = True\n",
    "COSTS = np.pow(SETS.sum(axis=1), 1.1)"
   ],
   "outputs": [],
   "execution_count": null
  },
  {
   "cell_type": "markdown",
   "metadata": {},
   "source": [
    "## Helper Functions"
   ]
  },
  {
   "cell_type": "code",
   "metadata": {},
   "source": [
    "def valid(solution):\n",
    "    \"\"\"Checks wether solution is valid (ie. covers all universe)\"\"\"\n",
    "    phenotype = np.logical_or.reduce(SETS[solution])\n",
    "    return np.all(phenotype)\n",
    "\n",
    "\n",
    "def cost(solution):\n",
    "    \"\"\"Returns the cost of a solution (to be minimized)\"\"\"\n",
    "    return COSTS[solution].sum()"
   ],
   "outputs": [],
   "execution_count": null
  },
  {
   "cell_type": "code",
   "metadata": {},
   "source": [
    "def fitness(solution: np.ndarray):\n",
    "    return valid(solution), -cost(solution)"
   ],
   "outputs": [],
   "execution_count": null
  },
  {
   "cell_type": "markdown",
   "metadata": {},
   "source": [
    "# Steepest step and restart\n",
    "\n",
    "Modified section:\n",
    "\n",
    "I completely ignored the last part of the first review (advising to make more\n",
    "variables dynamic) because, by doing so, the solutions were just worse...\n",
    "The main modification was introducing a dynamic mutation rate controlled\n",
    "by a learning rate and the no improvement treshold constants.\n",
    "While I was reviewing again, after the second review came in, I realised I had\n",
    "to decide whether to adapt the learning rate (as I already did) or to restart\n",
    "after a given number of steps saw no improvement.\n",
    "Not only I had already implement the first option, but I also found it more\n",
    "reasonable since I wanted to explore also less promising areas.\n",
    "In the end, I just added some comments and refactored the code as the second\n",
    "review pointed out how messy my code was..."
   ]
  },
  {
   "cell_type": "code",
   "metadata": {},
   "source": [
    "NUM_RESTARTS = 3  # Restarting to avoid local optima\n",
    "STEEPEST_STEP_CANDIDATES = 5  # N° of solutions evaluated at each step\n",
    "MAX_STEPS = 20000  # If NUM_RESTARTS controls the number of cycles of the outer loop, this one controls the maximum number of cycles of the inner one\n",
    "TRUE_MAX_STEPS = MAX_STEPS // STEEPEST_STEP_CANDIDATES  # Adjusted max steps considering also the n° of candidates evaluated at each step\n",
    "LEARNING_RATE = 0.01  # Mutation rate adjustment rate\n",
    "NO_IMPROVEMENT_THRESHOLD = 100  # N° of cycles with no improvement before increasing the mutation rate\n",
    "\n",
    "# Function to dynamically adjust mutation rate\n",
    "def adjust_mutation_rate(current_rate, no_improvement_count):\n",
    "    \"\"\"If the solution stops improving for NO_IMPROVEMENT_THRESHOLD\n",
    "    cycles, the mutation rate is boosted, therefore the\n",
    "    exploration aspect of the algorithm.\n",
    "    Otherwise, if the solution is continuously improving, the\n",
    "    mutation rate is lowered to boost the exploitation part.\"\"\"\n",
    "\n",
    "    if no_improvement_count > NO_IMPROVEMENT_THRESHOLD:\n",
    "        return min(1.0, current_rate + LEARNING_RATE)\n",
    "    return max(0.01, current_rate - LEARNING_RATE)\n",
    "\n",
    "\n",
    "# Modified multiple_mutation function with dynamic mutation rate\n",
    "def multiple_mutation(solution: np.ndarray, mutation_rate: float) -> np.ndarray:\n",
    "    \"\"\"This function flips a number of sets of a given solution based on the mutation rate.\"\"\"\n",
    "    new_sol = solution.copy()\n",
    "    mask = rng.random(NUM_SETS) < mutation_rate\n",
    "    return np.logical_xor(new_sol, mask)\n",
    "\n",
    "\n",
    "max_value = (0, -1)\n",
    "num_steps = 0\n",
    "history = list()  # Used only for visualization\n",
    "best_solution = []\n",
    "\n",
    "# The algorithm is restarted more times to avoid local optima (essence of the algorithm itself)\n",
    "for i in tqdm(range(NUM_RESTARTS), position=0):\n",
    "    solution = rng.random(NUM_SETS) < .5\n",
    "    history.append(fitness(solution)[1])\n",
    "\n",
    "    # Variables needed for the new dynamic mutation rate\n",
    "    last_improvement = (0, 0)\n",
    "    new_solution = solution\n",
    "    no_improvement_count = 0\n",
    "\n",
    "    # In this version the mutation rate becomes dynamic, being adusted based on the performance of the algorithm\n",
    "    # It defines the number of sets being inverted during the mutation phase for each of the selected candidates\n",
    "    mutation_rate = 0.01\n",
    "\n",
    "    for n in tqdm(range(TRUE_MAX_STEPS // NUM_RESTARTS), position=1, desc=f'step {i+1}'):\n",
    "        # create candidate solutions and evaluate them\n",
    "        candidates = [multiple_mutation(solution, mutation_rate) for _ in range(STEEPEST_STEP_CANDIDATES)]\n",
    "        candidates_fitness = list()\n",
    "        for c in candidates:\n",
    "            f = fitness(c)\n",
    "            history.append(f[1])\n",
    "            candidates_fitness.append(f)\n",
    "        idx = candidates_fitness.index(max(candidates_fitness))\n",
    "\n",
    "        # keep candidate solution that yielded the steepest ascent\n",
    "        new_solution = candidates[idx]\n",
    "        new_fitness = candidates_fitness[idx]\n",
    "        num_steps += STEEPEST_STEP_CANDIDATES\n",
    "\n",
    "        if new_fitness > fitness(solution):\n",
    "            solution = new_solution\n",
    "            no_improvement_count = 0\n",
    "        else:\n",
    "            no_improvement_count += 1\n",
    "\n",
    "        # Adjust mutation rate based on improvement\n",
    "        mutation_rate = adjust_mutation_rate(mutation_rate, no_improvement_count)\n",
    "\n",
    "    ic(fitness(solution))\n",
    "\n",
    "    if fitness(solution) > max_value:\n",
    "        max_value = fitness(solution)\n",
    "        best_solution = solution\n",
    "\n",
    "\n",
    "ic(fitness(best_solution))\n",
    "\n",
    "plt.figure(figsize=(14, 8))\n",
    "plt.plot(\n",
    "    range(len(history)),\n",
    "    list(accumulate(history, max)),\n",
    "    color=\"red\",\n",
    ")\n",
    "plt.scatter(range(len(history)), history, marker=\".\")"
   ],
   "outputs": [],
   "execution_count": null
  }
 ],
 "metadata": {
  "kernelspec": {
   "display_name": "Python 3 (ipykernel)",
   "language": "python",
   "name": "python3"
  },
  "language_info": {
   "codemirror_mode": {
    "name": "ipython",
    "version": 3
   },
   "file_extension": ".py",
   "mimetype": "text/x-python",
   "name": "python",
   "nbconvert_exporter": "python",
   "pygments_lexer": "ipython3",
   "version": "3.12.6"
  }
 },
 "nbformat": 4,
 "nbformat_minor": 4
}
